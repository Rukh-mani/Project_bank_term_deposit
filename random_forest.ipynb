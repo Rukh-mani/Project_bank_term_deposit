{
 "cells": [
  {
   "cell_type": "code",
   "execution_count": 1,
   "metadata": {},
   "outputs": [],
   "source": [
    "import pandas as pd\n",
    "from sklearn import svm \n",
    "from sklearn.svm import SVC\n",
    "from sklearn.linear_model import LogisticRegression\n",
    "from sklearn.metrics import accuracy_score, auc, roc_curve\n",
    "from sklearn.model_selection import GridSearchCV, train_test_split\n",
    "from sklearn.metrics import classification_report, roc_auc_score, roc_curve\n",
    "from sklearn.ensemble import RandomForestClassifier"
   ]
  },
  {
   "cell_type": "code",
   "execution_count": 2,
   "metadata": {},
   "outputs": [],
   "source": [
    "#defining functions\n",
    "def total_return(num_reached, balances, alpha=0.1): \n",
    "    return -2 * num_reached + alpha * sum(balances)\n",
    "# -2 * num_reached: This represents the cost of reaching out to num_reached individuals.\n",
    "# calculates the total balance (or value) associated with the individuals reached.\n",
    "# \n",
    "def avg_return(num_reached, balances, alpha=0.1):\n",
    "    return total_return(num_reached, balances, alpha) / num_reached\n"
   ]
  },
  {
   "cell_type": "code",
   "execution_count": 3,
   "metadata": {},
   "outputs": [],
   "source": [
    "X = pd.read_csv('X.csv')\n",
    "y = pd.read_csv('y.csv')"
   ]
  },
  {
   "cell_type": "code",
   "execution_count": 4,
   "metadata": {},
   "outputs": [],
   "source": [
    "prediction_df = pd.read_csv('prediction_df')\n",
    "prediction_df = prediction_df.drop('Unnamed: 0', axis=1)"
   ]
  },
  {
   "cell_type": "code",
   "execution_count": 5,
   "metadata": {},
   "outputs": [],
   "source": [
    "X = X.drop('Unnamed: 0', axis=1)\n",
    "y = y.drop('Unnamed: 0', axis=1)"
   ]
  },
  {
   "cell_type": "code",
   "execution_count": 6,
   "metadata": {},
   "outputs": [
    {
     "name": "stdout",
     "output_type": "stream",
     "text": [
      "(3616,)\n",
      "(905,)\n"
     ]
    }
   ],
   "source": [
    "X_train, X_test, y_train, y_test = train_test_split(X, y, test_size=0.20, random_state=42)\n",
    "# Flatten y_train and y_test\n",
    "y_train = y_train.values.ravel() if isinstance(y_train, pd.DataFrame) else y_train.ravel()\n",
    "y_test = y_test.values.ravel() if isinstance(y_test, pd.DataFrame) else y_test.ravel()\n",
    "\n",
    "# Check shapes after conversion\n",
    "print(y_train.shape)  # Should now be (3616,)\n",
    "print(y_test.shape)   # Should now be (905,)"
   ]
  },
  {
   "cell_type": "code",
   "execution_count": 7,
   "metadata": {},
   "outputs": [],
   "source": [
    "# Train logistic regression on the balanced dataset\n",
    "rf_classifier = RandomForestClassifier(max_depth= 7, min_samples_leaf=10, min_samples_split= 8, n_estimators= 49, random_state=42)\n",
    "rf_model = rf_classifier.fit(X_train, y_train)"
   ]
  },
  {
   "cell_type": "code",
   "execution_count": 8,
   "metadata": {},
   "outputs": [
    {
     "name": "stdout",
     "output_type": "stream",
     "text": [
      "\n",
      "Classification Report from test group:\n",
      "              precision    recall  f1-score   support\n",
      "\n",
      "           0       0.89      0.99      0.94       797\n",
      "           1       0.73      0.10      0.18       108\n",
      "\n",
      "    accuracy                           0.89       905\n",
      "   macro avg       0.81      0.55      0.56       905\n",
      "weighted avg       0.87      0.89      0.85       905\n",
      "\n",
      "\n",
      "Accuracy Score: 0.8883977900552487\n",
      "\n",
      "-------------------------------------\n",
      "Feature Importance:\n",
      "balance: 0.0584\n",
      "housing: 0.0252\n",
      "loan: 0.0076\n",
      "duration: 0.4519\n",
      "campaign: 0.0158\n",
      "pdays: 0.0639\n",
      "previous: 0.0565\n",
      "job_admin.: 0.0015\n",
      "job_blue-collar: 0.0088\n",
      "job_entrepreneur: 0.0013\n",
      "job_housemaid: 0.0003\n",
      "job_management: 0.0038\n",
      "job_retired: 0.0200\n",
      "job_self-employed: 0.0004\n",
      "job_services: 0.0006\n",
      "job_student: 0.0022\n",
      "job_technician: 0.0024\n",
      "job_unemployed: 0.0002\n",
      "job_unknown: 0.0001\n",
      "education_primary: 0.0032\n",
      "education_secondary: 0.0070\n",
      "education_tertiary: 0.0109\n",
      "education_unknown: 0.0009\n",
      "marital_divorced: 0.0070\n",
      "marital_married: 0.0126\n",
      "marital_single: 0.0060\n",
      "poutcome_failure: 0.0155\n",
      "poutcome_other: 0.0035\n",
      "poutcome_success: 0.1515\n",
      "poutcome_unknown: 0.0163\n",
      "age_category_middle: 0.0095\n",
      "age_category_old: 0.0316\n",
      "age_category_young: 0.0034\n"
     ]
    },
    {
     "data": {
      "text/plain": [
       "0.868174636367861"
      ]
     },
     "execution_count": 8,
     "metadata": {},
     "output_type": "execute_result"
    }
   ],
   "source": [
    "from sklearn.metrics import classification_report, roc_auc_score\n",
    "# Predict on the test set\n",
    "y_pred = rf_model.predict(X_test)\n",
    "classification_report_test_group = classification_report(y_test, y_pred, output_dict=True)\n",
    "# Evaluate the model\n",
    "print(\"\\nClassification Report from test group:\")\n",
    "print(classification_report(y_test, y_pred))\n",
    "print(\"\\nAccuracy Score:\", accuracy_score(y_test, y_pred))\n",
    "\n",
    "# Feature Importance\n",
    "print(\"\\n-------------------------------------\")\n",
    "print(\"Feature Importance:\")\n",
    "importance = rf_model.feature_importances_\n",
    "columns = ['balance', 'housing', 'loan', 'duration',\n",
    "       'campaign', 'pdays', 'previous', 'job_admin.', 'job_blue-collar',\n",
    "       'job_entrepreneur', 'job_housemaid', 'job_management', 'job_retired',\n",
    "       'job_self-employed', 'job_services', 'job_student', 'job_technician',\n",
    "       'job_unemployed', 'job_unknown', 'education_primary',\n",
    "       'education_secondary', 'education_tertiary', 'education_unknown',\n",
    "       'marital_divorced', 'marital_married', 'marital_single',\n",
    "       'poutcome_failure', 'poutcome_other', 'poutcome_success',\n",
    "       'poutcome_unknown', 'age_category_middle', 'age_category_old',\n",
    "       'age_category_young']\n",
    "for i, feature in enumerate(columns):\n",
    "    print(f\"{feature}: {importance[i]:.4f}\")\n",
    "\n",
    "y_pred_proba = rf_model.predict_proba(X_test)[:, 1]\n",
    "roc_auc = roc_auc_score(y_test, y_pred_proba)\n",
    "roc_auc"
   ]
  },
  {
   "cell_type": "code",
   "execution_count": 9,
   "metadata": {},
   "outputs": [
    {
     "name": "stdout",
     "output_type": "stream",
     "text": [
      "Accuracy: 0.8884\n",
      "ROC AUC: 0.8682\n",
      "Number of reached customers 15\n",
      "Number of converted customers 11\n",
      "Expected avg return -1.9496900655838496\n",
      "Actual avg return -1.9617957510068174\n",
      "Conversion ratio 0.7333333333333333\n",
      "Avg return ratio 1.0062090306744946\n"
     ]
    }
   ],
   "source": [
    "# Calculate evaluation metrics\n",
    "accuracy = accuracy_score(y_test, y_pred)\n",
    "roc_auc = roc_auc_score(y_test, y_pred_proba)\n",
    "reached_customers = X_test.loc[y_pred == 1] \n",
    "converted_customers = X_test.loc[(y_pred == 1) & (y_test == 1)]\n",
    "num_reached = len(reached_customers)\n",
    "num_converted = len(converted_customers)\n",
    "conversion_ratio = num_converted / num_reached\n",
    "expected_avg_return = avg_return(num_reached, reached_customers[\"balance\"])\n",
    "actual_avg_return = avg_return(num_reached, converted_customers[\"balance\"])\n",
    "return_ratio = actual_avg_return / expected_avg_return\n",
    "print(f'Accuracy: {accuracy:.4f}')\n",
    "print(f'ROC AUC: {roc_auc:.4f}')\n",
    "print(f\"Number of reached customers\", num_reached)\n",
    "print(f\"Number of converted customers\", num_converted)\n",
    "print(f\"Expected avg return\", expected_avg_return)\n",
    "print(f\"Actual avg return\", actual_avg_return)\n",
    "print(\"Conversion ratio\", conversion_ratio)\n",
    "print(\"Avg return ratio\", return_ratio)"
   ]
  },
  {
   "cell_type": "code",
   "execution_count": 10,
   "metadata": {},
   "outputs": [
    {
     "name": "stdout",
     "output_type": "stream",
     "text": [
      "Number of reached customers 735\n",
      "Expected avg return -1.9541782817116475\n",
      "Expected total return -1436.321037058061\n"
     ]
    }
   ],
   "source": [
    "X_future = prediction_df.drop('client_id', axis=1)\n",
    "y_future = rf_model.predict(X_future)\n",
    "future_reached_customers = X_future.loc[y_future == 1]\n",
    "future_num_reached = len(future_reached_customers)\n",
    "future_expected_avg_return = avg_return(future_num_reached, future_reached_customers[\"balance\"])\n",
    "future_expected_total_return = future_expected_avg_return * future_num_reached\n",
    "print(f\"Number of reached customers\", future_num_reached)\n",
    "print(f\"Expected avg return\", future_expected_avg_return * return_ratio)\n",
    "print(f\"Expected total return\", future_expected_total_return * return_ratio)\n"
   ]
  },
  {
   "cell_type": "code",
   "execution_count": 11,
   "metadata": {},
   "outputs": [],
   "source": [
    "client_ids_to_reach = prediction_df.loc[y_future == 1, \"client_id\"].copy()"
   ]
  },
  {
   "cell_type": "code",
   "execution_count": 12,
   "metadata": {},
   "outputs": [],
   "source": [
    "og_table = pd.read_csv(\"merged_table.csv\")"
   ]
  },
  {
   "cell_type": "code",
   "execution_count": 13,
   "metadata": {},
   "outputs": [],
   "source": [
    "# Filter using .isin()\n",
    "filtered_table = og_table[og_table['client_id'].isin(list(client_ids_to_reach))]"
   ]
  },
  {
   "cell_type": "code",
   "execution_count": 14,
   "metadata": {},
   "outputs": [
    {
     "data": {
      "text/html": [
       "<div>\n",
       "<style scoped>\n",
       "    .dataframe tbody tr th:only-of-type {\n",
       "        vertical-align: middle;\n",
       "    }\n",
       "\n",
       "    .dataframe tbody tr th {\n",
       "        vertical-align: top;\n",
       "    }\n",
       "\n",
       "    .dataframe thead th {\n",
       "        text-align: right;\n",
       "    }\n",
       "</style>\n",
       "<table border=\"1\" class=\"dataframe\">\n",
       "  <thead>\n",
       "    <tr style=\"text-align: right;\">\n",
       "      <th></th>\n",
       "      <th>client_id</th>\n",
       "      <th>age</th>\n",
       "      <th>job</th>\n",
       "      <th>marital</th>\n",
       "      <th>education</th>\n",
       "      <th>balance</th>\n",
       "      <th>in_default</th>\n",
       "      <th>housing</th>\n",
       "      <th>loan</th>\n",
       "      <th>duration</th>\n",
       "      <th>campaign</th>\n",
       "      <th>pdays</th>\n",
       "      <th>previous</th>\n",
       "      <th>poutcome</th>\n",
       "      <th>y</th>\n",
       "    </tr>\n",
       "  </thead>\n",
       "  <tbody>\n",
       "    <tr>\n",
       "      <th>26956</th>\n",
       "      <td>8172130</td>\n",
       "      <td>31</td>\n",
       "      <td>entrepreneur</td>\n",
       "      <td>single</td>\n",
       "      <td>tertiary</td>\n",
       "      <td>-405.0</td>\n",
       "      <td>yes</td>\n",
       "      <td>yes</td>\n",
       "      <td>yes</td>\n",
       "      <td>846</td>\n",
       "      <td>1</td>\n",
       "      <td>100</td>\n",
       "      <td>2</td>\n",
       "      <td>success</td>\n",
       "      <td>unknown</td>\n",
       "    </tr>\n",
       "    <tr>\n",
       "      <th>30180</th>\n",
       "      <td>8880929</td>\n",
       "      <td>58</td>\n",
       "      <td>management</td>\n",
       "      <td>married</td>\n",
       "      <td>secondary</td>\n",
       "      <td>-382.0</td>\n",
       "      <td>no</td>\n",
       "      <td>no</td>\n",
       "      <td>no</td>\n",
       "      <td>398</td>\n",
       "      <td>4</td>\n",
       "      <td>189</td>\n",
       "      <td>12</td>\n",
       "      <td>success</td>\n",
       "      <td>unknown</td>\n",
       "    </tr>\n",
       "  </tbody>\n",
       "</table>\n",
       "</div>"
      ],
      "text/plain": [
       "       client_id  age           job  marital  education  balance in_default  \\\n",
       "26956    8172130   31  entrepreneur   single   tertiary   -405.0        yes   \n",
       "30180    8880929   58    management  married  secondary   -382.0         no   \n",
       "\n",
       "      housing loan  duration  campaign  pdays  previous poutcome        y  \n",
       "26956     yes  yes       846         1    100         2  success  unknown  \n",
       "30180      no   no       398         4    189        12  success  unknown  "
      ]
     },
     "execution_count": 14,
     "metadata": {},
     "output_type": "execute_result"
    }
   ],
   "source": [
    "filtered_table[filtered_table.balance < 0]"
   ]
  },
  {
   "cell_type": "code",
   "execution_count": 15,
   "metadata": {},
   "outputs": [
    {
     "name": "stdout",
     "output_type": "stream",
     "text": [
      "Confusion Matrix for Random Forest:\n"
     ]
    },
    {
     "data": {
      "image/png": "[encoded data removed]",
      "text/plain": [
       "<Figure size 720x480 with 2 Axes>"
      ]
     },
     "metadata": {},
     "output_type": "display_data"
    }
   ],
   "source": [
    "from sklearn.metrics import confusion_matrix\n",
    "print(\"Confusion Matrix for Random Forest:\")\n",
    "rf_conf_matrix = confusion_matrix(y_test, rf_model.predict(X_test))\n",
    "\n",
    "import seaborn as sns\n",
    "import matplotlib.pyplot as plt\n",
    "# Plot the confusion matrix heatmap\n",
    "fig, ax = plt.subplots(figsize=(6, 4), dpi=120)\n",
    "sns.heatmap(rf_conf_matrix, annot=True, fmt=\"d\", cmap=\"coolwarm\", xticklabels=['no', 'yes'], yticklabels=['no', 'yes'], ax=ax)\n",
    "ax.set_title(\"Confusion Matrix - Random Forest\")\n",
    "ax.set_xlabel(\"Predicted Labels\")\n",
    "ax.set_ylabel(\"True Labels\")\n",
    "\n",
    "plt.tight_layout()\n",
    "plt.show()"
   ]
  }
 ],
 "metadata": {
  "kernelspec": {
   "display_name": "dwwshop",
   "language": "python",
   "name": "python3"
  },
  "language_info": {
   "codemirror_mode": {
    "name": "ipython",
    "version": 3
   },
   "file_extension": ".py",
   "mimetype": "text/x-python",
   "name": "python",
   "nbconvert_exporter": "python",
   "pygments_lexer": "ipython3",
   "version": "3.11.7"
  }
 },
 "nbformat": 4,
 "nbformat_minor": 2
}
