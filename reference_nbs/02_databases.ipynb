{
 "cells": [
  {
   "cell_type": "markdown",
   "metadata": {},
   "source": [
    "# Introduction to databases with SQLite3"
   ]
  },
  {
   "cell_type": "code",
   "execution_count": null,
   "metadata": {},
   "outputs": [],
   "source": [
    "import sqlite3\n",
    "\n",
    "# This will create a new SQLite database in memory. \n",
    "# If you want to create a file-based database, replace \":memory:\" with a file path.\n",
    "conn = sqlite3.connect(':memory:') #passing 'memory' as an arguement, allows the temporary use of the database \n",
    "#which will terminate once the connection is closed\n",
    "cursor = conn.cursor()"
   ]
  },
  {
   "cell_type": "code",
   "execution_count": 2,
   "metadata": {},
   "outputs": [
    {
     "data": {
      "text/plain": [
       "<sqlite3.Cursor at 0x1b7f4906c40>"
      ]
     },
     "execution_count": 2,
     "metadata": {},
     "output_type": "execute_result"
    }
   ],
   "source": [
    "# Create new table\n",
    "cursor.execute('''\n",
    "CREATE TABLE users(\n",
    "    id INTEGER PRIMARY KEY,\n",
    "    name TEXT NOT NULL,\n",
    "    age INTEGER\n",
    ")\n",
    "''')\n"
   ]
  },
  {
   "cell_type": "code",
   "execution_count": null,
   "metadata": {},
   "outputs": [],
   "source": [
    "# Inserting new data into the table\n",
    "users = [\n",
    "    (1, \"Alice\", 28),\n",
    "    (2, \"Bob\", 22),\n",
    "    (3, \"Charlie\", 35)\n",
    "]\n",
    "\n",
    "cursor.executemany('''\n",
    "INSERT INTO users(id, name, age) VALUES(?, ?, ?)\n",
    "''', users)\n",
    "\n",
    "conn.commit() #table-modifying changes will not be saved unless you commit\n"
   ]
  },
  {
   "cell_type": "code",
   "execution_count": 4,
   "metadata": {},
   "outputs": [
    {
     "name": "stdout",
     "output_type": "stream",
     "text": [
      "(1, 'Alice', 28)\n",
      "(2, 'Bob', 22)\n",
      "(3, 'Charlie', 35)\n"
     ]
    }
   ],
   "source": [
    "# Querying data\n",
    "cursor.execute(\"SELECT * FROM users\")\n",
    "rows = cursor.fetchall()\n",
    "\n",
    "for row in rows:\n",
    "    print(row)"
   ]
  },
  {
   "cell_type": "code",
   "execution_count": 5,
   "metadata": {},
   "outputs": [],
   "source": [
    "# Updating data\n",
    "cursor.execute(\"UPDATE users SET age = 29 WHERE name = 'Alice'\")\n",
    "conn.commit()"
   ]
  },
  {
   "cell_type": "code",
   "execution_count": 6,
   "metadata": {},
   "outputs": [
    {
     "name": "stdout",
     "output_type": "stream",
     "text": [
      "(1, 'Alice', 29)\n",
      "(2, 'Bob', 22)\n",
      "(3, 'Charlie', 35)\n"
     ]
    }
   ],
   "source": [
    "cursor.execute(\"SELECT * FROM USERS\")\n",
    "rows = cursor.fetchall()\n",
    "\n",
    "for row in rows:\n",
    "    print(row)"
   ]
  },
  {
   "cell_type": "code",
   "execution_count": 7,
   "metadata": {},
   "outputs": [],
   "source": [
    "# Deleting data\n",
    "cursor.execute(\"DELETE FROM users WHERE name = 'Bob'\")\n",
    "conn.commit()"
   ]
  },
  {
   "cell_type": "code",
   "execution_count": 8,
   "metadata": {},
   "outputs": [
    {
     "name": "stdout",
     "output_type": "stream",
     "text": [
      "(1, 'Alice', 29)\n",
      "(3, 'Charlie', 35)\n"
     ]
    }
   ],
   "source": [
    "cursor.execute(\"SELECT * FROM users\")\n",
    "rows = cursor.fetchall()\n",
    "\n",
    "for row in rows:\n",
    "    print(row)"
   ]
  },
  {
   "cell_type": "markdown",
   "metadata": {},
   "source": [
    "# Advanced features\n",
    "\n",
    "- Using WHERE clauses to filter data\n",
    "- Joining tables\n",
    "- Using transactions\n",
    "- Creating indexes for better performance\n",
    "- Using triggers, views, etc."
   ]
  },
  {
   "cell_type": "code",
   "execution_count": 9,
   "metadata": {},
   "outputs": [],
   "source": [
    "# Let's add more data to make things interesting...\n",
    "more_users = [\n",
    "    (4, \"David\", 28),\n",
    "    (5, \"Eva\", 22),\n",
    "    (6, \"Frank\", 35)\n",
    "]\n",
    "\n",
    "cursor.executemany('''\n",
    "INSERT INTO users(id, name, age) VALUES(?, ?, ?)\n",
    "''', more_users)\n",
    "\n",
    "conn.commit()"
   ]
  },
  {
   "cell_type": "code",
   "execution_count": 10,
   "metadata": {},
   "outputs": [
    {
     "name": "stdout",
     "output_type": "stream",
     "text": [
      "(1, 'Alice', 29)\n",
      "(3, 'Charlie', 35)\n",
      "(4, 'David', 28)\n",
      "(5, 'Eva', 22)\n",
      "(6, 'Frank', 35)\n"
     ]
    }
   ],
   "source": [
    "cursor.execute(\"SELECT * FROM users\")\n",
    "rows = cursor.fetchall()\n",
    "for row in rows:\n",
    "    print(row)"
   ]
  },
  {
   "cell_type": "code",
   "execution_count": 11,
   "metadata": {},
   "outputs": [
    {
     "name": "stdout",
     "output_type": "stream",
     "text": [
      "(1, 'Alice', 29)\n",
      "(3, 'Charlie', 35)\n",
      "(4, 'David', 28)\n",
      "(6, 'Frank', 35)\n"
     ]
    }
   ],
   "source": [
    "# Query users which are older than 25...\n",
    "cursor.execute(\"SELECT * FROM users WHERE age > 25\")\n",
    "rows = cursor.fetchall()\n",
    "\n",
    "for row in rows:\n",
    "    print(row)"
   ]
  },
  {
   "cell_type": "markdown",
   "metadata": {},
   "source": [
    "## Joining tables\n",
    "- we will now create a new table *orders* and fill it with data\n",
    "- then we join the new table with the one we created earlier"
   ]
  },
  {
   "cell_type": "code",
   "execution_count": 12,
   "metadata": {},
   "outputs": [],
   "source": [
    "# Joining tables\n",
    "cursor.execute('''\n",
    "CREATE TABLE orders(\n",
    "    order_id INTEGER PRIMARY KEY,\n",
    "    user_id INTEGER,\n",
    "    product TEXT,\n",
    "    FOREIGN KEY(user_id) REFERENCES users(id)\n",
    ")\n",
    "''')\n",
    "\n",
    "orders = [\n",
    "    (1, 1, \"Laptop\"),\n",
    "    (2, 2, \"Book\"),\n",
    "    (3, 3, \"Tablet\"),\n",
    "    (4, 3, \"Mobile\"),\n",
    "    (5, 5, \"Monitor\")\n",
    "]\n",
    "\n",
    "cursor.executemany('''\n",
    "INSERT INTO orders(order_id, user_id, product) VALUES(?, ?, ?)\n",
    "''', orders)\n",
    "\n",
    "conn.commit()"
   ]
  },
  {
   "cell_type": "code",
   "execution_count": 15,
   "metadata": {},
   "outputs": [
    {
     "name": "stdout",
     "output_type": "stream",
     "text": [
      "('Alice', 'Laptop')\n",
      "('Charlie', 'Tablet')\n",
      "('Charlie', 'Mobile')\n",
      "('Eva', 'Monitor')\n"
     ]
    }
   ],
   "source": [
    "# Join\n",
    "cursor.execute('''\n",
    "SELECT users.name, orders.product\n",
    "FROM users\n",
    "JOIN orders ON users.id = orders.user_id\n",
    "''')\n",
    "\n",
    "rows = cursor.fetchall()\n",
    "\n",
    "for row in rows:\n",
    "    print(row)"
   ]
  },
  {
   "cell_type": "code",
   "execution_count": null,
   "metadata": {},
   "outputs": [
    {
     "name": "stdout",
     "output_type": "stream",
     "text": [
      "(1, 'Alice', 29, 1, 1, 'Laptop')\n",
      "(3, 'Charlie', 35, 3, 3, 'Tablet')\n",
      "(3, 'Charlie', 35, 4, 3, 'Mobile')\n",
      "(5, 'Eva', 22, 5, 5, 'Monitor')\n"
     ]
    }
   ],
   "source": [
    "# # Join\n",
    "# cursor.execute('''\n",
    "# SELECT * \n",
    "# FROM users\n",
    "# JOIN orders ON users.id = orders.user_id\n",
    "# ''')\n",
    "\n",
    "# rows = cursor.fetchall()\n",
    "\n",
    "# for row in rows:\n",
    "#     print(row)"
   ]
  },
  {
   "cell_type": "markdown",
   "metadata": {},
   "source": [
    "## Transactions"
   ]
  },
  {
   "cell_type": "code",
   "execution_count": null,
   "metadata": {},
   "outputs": [],
   "source": [
    "# Grouping multiple operations into a single transaction\n",
    "try:\n",
    "    cursor.execute(\"UPDATE users SET age = 30 WHERE name = 'David'\")\n",
    "    cursor.execute(\"DELETE FROM users WHERE name = 'Frank'\")\n",
    "    conn.commit()\n",
    "except:\n",
    "    conn.rollback()\n"
   ]
  },
  {
   "cell_type": "code",
   "execution_count": 19,
   "metadata": {},
   "outputs": [
    {
     "name": "stdout",
     "output_type": "stream",
     "text": [
      "(1, 'Alice', 29)\n",
      "(3, 'Charlie', 35)\n",
      "(4, 'David', 30)\n",
      "(5, 'Eva', 22)\n"
     ]
    }
   ],
   "source": [
    "cursor.execute(\"SELECT * FROM users\")\n",
    "rows = cursor.fetchall()\n",
    "for row in rows:\n",
    "    print(row)"
   ]
  },
  {
   "cell_type": "markdown",
   "metadata": {},
   "source": [
    "## Indices\n",
    "Indexes are used to quickly locate data without scanning through every row in a database table every time a database table is accessed. Indexes can be created using one or more columns, providing the basis for both rapid random lookups and efficient access to ordered records.\n",
    "\n",
    "### Benefits\n",
    "\n",
    "- Faster retrieval action, especially for large tables\n",
    "- Faster sort performance, because using indexes often requires fewer data comparisons\n",
    "- Faster join performance\n",
    "\n",
    "##### EXAMPLE: Creating an index on the age column improves query performance for any operation that filters or sorts based on age. For example, queries like SELECT * FROM users WHERE age > 30 or ORDER BY age will be faster, as the database can use the index to quickly locate and organize relevant records. However, indexes also increase storage use and can slow down INSERT or UPDATE operations on the indexed column due to the need to maintain the index structure.\n",
    "\n",
    "### Trade-offs\n",
    "- They consume additional disk space\n",
    "- Whenever you add, modify, or delete rows in indexed columns, the index needs to be updated, which could slow down write operations"
   ]
  },
  {
   "cell_type": "code",
   "execution_count": null,
   "metadata": {},
   "outputs": [
    {
     "data": {
      "text/plain": [
       "<sqlite3.Cursor at 0x1b7f4906c40>"
      ]
     },
     "execution_count": 20,
     "metadata": {},
     "output_type": "execute_result"
    }
   ],
   "source": [
    "# Let's create an index\n",
    "\n",
    "# Composite index\n",
    "## CREATE INDEX idx_name_age ON users(name, age);\n",
    "# Partial inderx\n",
    "## CREATE INDEX idx_name_old_users ON users(name) WHERE age > 25;\n",
    "\n",
    "# We shall just create a single-column index\n",
    "cursor.execute(\"CREATE INDEX idx_age ON users(age)\") #doesnt create an additional column called idx_age"
   ]
  },
  {
   "cell_type": "markdown",
   "metadata": {},
   "source": [
    "## Triggers\n",
    "Let's say each time an order is made by a user, we want to keep track of how active the user is. We can have an order_count column in the users table, which increments every time a new order is made by that user."
   ]
  },
  {
   "cell_type": "code",
   "execution_count": 23,
   "metadata": {},
   "outputs": [],
   "source": [
    "# Create a order_count\n",
    "cursor.execute(\"ALTER TABLE users ADD COLUMN order_count INTEGER DEFAULT 0\")\n",
    "conn.commit()"
   ]
  },
  {
   "cell_type": "code",
   "execution_count": null,
   "metadata": {},
   "outputs": [],
   "source": [
    "# Increment the order count after a new order has been logged in the 'orders' table - this update is made in the \"users table\"\n",
    "cursor.execute('''\n",
    "CREATE TRIGGER update_order_count\n",
    "AFTER INSERT ON orders\n",
    "FOR EACH ROW\n",
    "BEGIN\n",
    "   UPDATE users \n",
    "   SET order_count = order_count + 1 \n",
    "   WHERE id = NEW.user_id;\n",
    "END;\n",
    "''')\n",
    "conn.commit()"
   ]
  },
  {
   "cell_type": "code",
   "execution_count": null,
   "metadata": {},
   "outputs": [],
   "source": [
    "#this works because the primary key has autoincrement\n",
    "orders = [\n",
    "    (1, \"Pencil\"),\n",
    "    (2, \"Pen\"),\n",
    "]\n",
    "\n",
    "cursor.executemany('''\n",
    "INSERT INTO orders(user_id, product) VALUES(?, ?)\n",
    "''', orders)\n",
    "\n",
    "conn.commit()\n",
    "\n"
   ]
  },
  {
   "cell_type": "code",
   "execution_count": 27,
   "metadata": {},
   "outputs": [
    {
     "name": "stdout",
     "output_type": "stream",
     "text": [
      "(1, 1, 'Laptop')\n",
      "(2, 2, 'Book')\n",
      "(3, 3, 'Tablet')\n",
      "(4, 3, 'Mobile')\n",
      "(5, 5, 'Monitor')\n",
      "(6, 1, 'Pencil')\n",
      "(7, 2, 'Pen')\n"
     ]
    }
   ],
   "source": [
    "cursor.execute(\"SELECT * FROM orders\")\n",
    "rows = cursor.fetchall()\n",
    "\n",
    "for row in rows:\n",
    "    print(row)"
   ]
  },
  {
   "cell_type": "markdown",
   "metadata": {},
   "source": [
    "### Trigger showcase\n",
    "- below we demonstrate how the trigger works"
   ]
  },
  {
   "cell_type": "code",
   "execution_count": 34,
   "metadata": {},
   "outputs": [
    {
     "name": "stdout",
     "output_type": "stream",
     "text": [
      "(1, 'Alice', 29, 2)\n",
      "(3, 'Charlie', 35, 0)\n",
      "(4, 'David', 30, 0)\n",
      "(5, 'Eva', 22, 0)\n"
     ]
    }
   ],
   "source": [
    "# State of 'users' before insertion of order\n",
    "cursor.execute(\"SELECT * FROM users\")\n",
    "rows = cursor.fetchall()\n",
    "\n",
    "for row in rows:\n",
    "    print(row)"
   ]
  },
  {
   "cell_type": "code",
   "execution_count": 30,
   "metadata": {},
   "outputs": [],
   "source": [
    "# Add an order for Alice\n",
    "cursor.execute(\"INSERT INTO orders(order_id, user_id, product) VALUES(8, 1, 'Mouse')\")\n",
    "conn.commit()"
   ]
  },
  {
   "cell_type": "code",
   "execution_count": 32,
   "metadata": {},
   "outputs": [
    {
     "name": "stdout",
     "output_type": "stream",
     "text": [
      "[(1, 'Alice', 29, 2), (3, 'Charlie', 35, 0), (4, 'David', 30, 0), (5, 'Eva', 22, 0)]\n",
      "[(1, 'Alice', 29, 2), (3, 'Charlie', 35, 0), (4, 'David', 30, 0), (5, 'Eva', 22, 0)]\n",
      "[(1, 'Alice', 29, 2), (3, 'Charlie', 35, 0), (4, 'David', 30, 0), (5, 'Eva', 22, 0)]\n",
      "[(1, 'Alice', 29, 2), (3, 'Charlie', 35, 0), (4, 'David', 30, 0), (5, 'Eva', 22, 0)]\n"
     ]
    }
   ],
   "source": [
    "cursor.execute(\"SELECT * from users\")\n",
    "rows = cursor.fetchall()\n",
    "\n",
    "for row in rows:\n",
    "    print(rows)"
   ]
  },
  {
   "cell_type": "code",
   "execution_count": 31,
   "metadata": {},
   "outputs": [
    {
     "name": "stdout",
     "output_type": "stream",
     "text": [
      "Updated user data for Alice: (1, 'Alice', 29, 2)\n",
      "\n",
      "Joined data (UserID, UserName, OrderCount, OrderID, Product):\n",
      "(1, 'Alice', 2, 1, 'Laptop')\n",
      "(3, 'Charlie', 0, 3, 'Tablet')\n",
      "(3, 'Charlie', 0, 4, 'Mobile')\n",
      "(5, 'Eva', 0, 5, 'Monitor')\n",
      "(1, 'Alice', 2, 6, 'Pencil')\n",
      "(1, 'Alice', 2, 8, 'Mouse')\n"
     ]
    }
   ],
   "source": [
    "# Querying the users table for Alice's updated data\n",
    "cursor.execute(\"SELECT * FROM users WHERE id = 1\")\n",
    "row = cursor.fetchone()\n",
    "print(\"Updated user data for Alice:\", row)\n",
    "\n",
    "# Querying and printing a joined version of users and orders\n",
    "cursor.execute('''\n",
    "SELECT users.id, users.name, users.order_count, orders.order_id, orders.product \n",
    "FROM users \n",
    "JOIN orders ON users.id = orders.user_id\n",
    "''')\n",
    "rows = cursor.fetchall()\n",
    "\n",
    "print(\"\\nJoined data (UserID, UserName, OrderCount, OrderID, Product):\")\n",
    "for row in rows:\n",
    "    print(row)"
   ]
  },
  {
   "cell_type": "markdown",
   "metadata": {},
   "source": [
    "## Visualization"
   ]
  },
  {
   "cell_type": "code",
   "execution_count": 35,
   "metadata": {},
   "outputs": [
    {
     "data": {
      "image/png": "[encoded data removed]",
      "text/plain": [
       "<Figure size 640x480 with 1 Axes>"
      ]
     },
     "metadata": {},
     "output_type": "display_data"
    }
   ],
   "source": [
    "# Load data from database and plot\n",
    "import pandas as pd\n",
    "import matplotlib.pyplot as plt\n",
    "\n",
    "df = pd.read_sql_query(\"SELECT name, age FROM users\", conn)\n",
    "\n",
    "df.plot(kind='bar', x='name', y='age')\n",
    "plt.show()"
   ]
  }
 ],
 "metadata": {
  "kernelspec": {
   "display_name": "dwwshop",
   "language": "python",
   "name": "python3"
  },
  "language_info": {
   "codemirror_mode": {
    "name": "ipython",
    "version": 3
   },
   "file_extension": ".py",
   "mimetype": "text/x-python",
   "name": "python",
   "nbconvert_exporter": "python",
   "pygments_lexer": "ipython3",
   "version": "3.11.7"
  }
 },
 "nbformat": 4,
 "nbformat_minor": 2
}
