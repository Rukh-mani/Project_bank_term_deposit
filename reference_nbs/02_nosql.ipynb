{
 "cells": [
  {
   "cell_type": "markdown",
   "metadata": {},
   "source": [
    "# NoSQL Demonstration\n",
    "For this exercise, we will use a lightweight NoSQL database called **TinyDB**. It is serverless, easy to install, and easy to operate with. It is a file-based database system that is stored in .json dictionary format."
   ]
  },
  {
   "cell_type": "code",
   "execution_count": null,
   "metadata": {},
   "outputs": [],
   "source": [
    "# Install\n",
    "# !pip install tinydb"
   ]
  },
  {
   "cell_type": "markdown",
   "metadata": {},
   "source": [
    "## The basics\n",
    "- same as we saw in SQLite before..."
   ]
  },
  {
   "cell_type": "code",
   "execution_count": null,
   "metadata": {},
   "outputs": [],
   "source": [
    "# Import necessary libraries\n",
    "from tinydb import TinyDB, Query\n",
    "\n",
    "# Initialize a new database\n",
    "db = TinyDB('nosql_database.json')\n",
    "\n",
    "# Insert records into the database\n",
    "db.insert({'type': 'fruit', 'name': 'apple', 'color': 'red'})\n",
    "db.insert({'type': 'fruit', 'name': 'banana', 'color': 'yellow'})\n",
    "db.insert({'type': 'vegetable', 'name': 'broccoli', 'color': 'green'})\n",
    "\n",
    "# Search for records\n",
    "Fruit = Query()\n",
    "result = db.search(Fruit.type == 'fruit')\n",
    "print(result)\n",
    "\n",
    "# Update records\n",
    "db.update({'color': 'green'}, Fruit.name == 'apple')\n",
    "\n",
    "# Delete records\n",
    "db.remove(Fruit.name == 'banana')\n",
    "\n",
    "# Check the updated records\n",
    "print(db.all())\n",
    "\n"
   ]
  },
  {
   "cell_type": "markdown",
   "metadata": {},
   "source": [
    "## Quirks of NoSQL\n",
    "- flexible scheme\n",
    "- no joins (typically)\n",
    "- complex queries\n",
    "- lack of transaction support\n"
   ]
  },
  {
   "cell_type": "code",
   "execution_count": null,
   "metadata": {},
   "outputs": [],
   "source": [
    "# Inserting records with different schemas\n",
    "db.insert({'type': 'fruit', 'name': 'orange', 'color': 'orange', 'taste': 'sweet'})\n",
    "print(db.all())"
   ]
  },
  {
   "cell_type": "code",
   "execution_count": null,
   "metadata": {},
   "outputs": [],
   "source": [
    "# Example of a nested document\n",
    "db.insert({'type': 'fruit', 'name': 'strawberry', 'color': 'red', 'nutrition': {'calories': 30, 'carbs': '7g'}})\n",
    "print(db.search(Fruit.name == 'strawberry'))"
   ]
  },
  {
   "cell_type": "code",
   "execution_count": null,
   "metadata": {},
   "outputs": [],
   "source": [
    "# Find fruits that are red in color and have a name starting with 'a'\n",
    "result = db.search((Fruit.color == 'red') & (Fruit.name.test(lambda s: s[0] == 'a')))\n",
    "print(result)"
   ]
  },
  {
   "cell_type": "markdown",
   "metadata": {},
   "source": [
    "### Transactions\n",
    "- You can't natively roll back changes in TinyDB like you can with SQL transactions\n",
    "- If you wanted rollback capabilities, you'd need to manually implement it or ensure your operations are idempotent."
   ]
  }
 ],
 "metadata": {
  "language_info": {
   "name": "python"
  }
 },
 "nbformat": 4,
 "nbformat_minor": 2
}
