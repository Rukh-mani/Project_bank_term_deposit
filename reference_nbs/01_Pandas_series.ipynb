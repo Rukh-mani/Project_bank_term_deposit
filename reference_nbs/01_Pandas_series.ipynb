{
 "cells": [
  {
   "cell_type": "code",
   "execution_count": 1,
   "metadata": {},
   "outputs": [
    {
     "name": "stderr",
     "output_type": "stream",
     "text": [
      "C:\\Users\\rukhm\\AppData\\Local\\Temp\\ipykernel_44376\\4080736814.py:1: DeprecationWarning: \n",
      "Pyarrow will become a required dependency of pandas in the next major release of pandas (pandas 3.0),\n",
      "(to allow more performant data types, such as the Arrow string type, and better interoperability with other libraries)\n",
      "but was not found to be installed on your system.\n",
      "If this would cause problems for you,\n",
      "please provide us feedback at https://github.com/pandas-dev/pandas/issues/54466\n",
      "        \n",
      "  import pandas as pd\n"
     ]
    }
   ],
   "source": [
    "import pandas as pd"
   ]
  },
  {
   "cell_type": "code",
   "execution_count": 4,
   "metadata": {},
   "outputs": [
    {
     "data": {
      "text/plain": [
       "0    10\n",
       "1    20\n",
       "2    30\n",
       "3    40\n",
       "4    50\n",
       "dtype: int64"
      ]
     },
     "execution_count": 4,
     "metadata": {},
     "output_type": "execute_result"
    }
   ],
   "source": [
    "#Creating pandas Series from list\n",
    "my_list = [10, 20, 30, 40, 50]\n",
    "my_series = pd.Series(my_list)\n",
    "my_series\n"
   ]
  },
  {
   "cell_type": "code",
   "execution_count": null,
   "metadata": {},
   "outputs": [
    {
     "name": "stdout",
     "output_type": "stream",
     "text": [
      "RangeIndex(start=0, stop=5, step=1)\n",
      "[10 20 30 40 50]\n",
      "int64\n",
      "(5,)\n",
      "40\n",
      "0    10\n",
      "1    20\n",
      "2    30\n",
      "3    40\n",
      "4    50\n",
      "dtype: int64\n"
     ]
    }
   ],
   "source": [
    "#Attributes\n",
    "print(my_series.index) #will return all indices from the series - creates a RangeIndex object\n",
    "print(my_series.values) #property object - it is not a LIST!!!!\n",
    "print(my_series.dtype) \n",
    "print(my_series.shape) #rows by columns and a series is one column only --> we just need to know how many rows we have; it returns a tuple-> (row,)\n",
    "print(my_series.nbytes) # how much memory a variable occupies\n",
    "print(my_series.T) #shortcut for printing everything"
   ]
  },
  {
   "cell_type": "code",
   "execution_count": 10,
   "metadata": {},
   "outputs": [
    {
     "data": {
      "text/plain": [
       "dtype('O')"
      ]
     },
     "execution_count": 10,
     "metadata": {},
     "output_type": "execute_result"
    }
   ],
   "source": [
    "#However! What if list holds various data types?\n",
    "my_list = [10, \"dog\", 30, \"cat\", 50]\n",
    "my_series = pd.Series(my_list)\n",
    "my_series\n",
    "my_series.dtype\n",
    "#TODO how this works? what about data type? \n",
    "#it will be an object - even though the different elements are of different datatypes\n",
    "#will have to recast it as an int or string if using them later on for anything"
   ]
  },
  {
   "cell_type": "code",
   "execution_count": null,
   "metadata": {},
   "outputs": [
    {
     "data": {
      "text/plain": [
       "25"
      ]
     },
     "execution_count": 21,
     "metadata": {},
     "output_type": "execute_result"
    }
   ],
   "source": [
    "#TODO create series from dictionary\n",
    "my_dict = {\"Name\": \"Monkey\", \"age\": 25, \"profession\": \"teacher\"}\n",
    "#TODO \n",
    "my_series = pd.Series(my_dict)\n",
    "my_series[\"Name\"]#makes the key as the index and the value as value in the series\n",
    "\n",
    "my_series.iloc[1] #to use numbers instead of using the key because treating keys as positions is depracated"
   ]
  },
  {
   "cell_type": "code",
   "execution_count": null,
   "metadata": {},
   "outputs": [
    {
     "name": "stdout",
     "output_type": "stream",
     "text": [
      "150\n",
      "30.0\n",
      "12000000\n"
     ]
    },
    {
     "data": {
      "text/plain": [
       "0    1.0\n",
       "1    1.0\n",
       "2    1.0\n",
       "3    1.0\n",
       "4    1.0\n",
       "dtype: float64"
      ]
     },
     "execution_count": 25,
     "metadata": {},
     "output_type": "execute_result"
    }
   ],
   "source": [
    "#Sum series\n",
    "my_list = [10, 20, 30, 40, 50]\n",
    "my_series = pd.Series(my_list)\n",
    "my_series\n",
    "\n",
    "print(my_series.sum())\n",
    "\n",
    "#Mean series\n",
    "print(my_series.mean())\n",
    "\n",
    "#Product series\n",
    "print(my_series.product())\n",
    "\n",
    "# bla = my_series / my_series\n",
    "# bla\n"
   ]
  },
  {
   "cell_type": "code",
   "execution_count": null,
   "metadata": {},
   "outputs": [
    {
     "name": "stdout",
     "output_type": "stream",
     "text": [
      "5\n",
      "<class 'pandas.core.series.Series'>\n",
      "[10, 20, 30, 40, 50]\n",
      "[10, 20, 30, 40, 50]\n",
      "{0: 10, 1: 20, 2: 30, 3: 40, 4: 50}\n",
      "10\n",
      "50\n"
     ]
    }
   ],
   "source": [
    "#Interaction with python built-in functions\n",
    "#TODO let's try len, type, sorted, list, dict, min, max\n",
    "print(len(my_series))\n",
    "print(type(my_series)) #series --> the aruguement to a function can be any container \n",
    "print(sorted(my_series))\n",
    "print(list(my_series))\n",
    "print(dict(my_series))\n",
    "print(min(my_series))\n",
    "print(max(my_series))\n",
    "#they will return a new series"
   ]
  },
  {
   "cell_type": "code",
   "execution_count": 44,
   "metadata": {},
   "outputs": [
    {
     "name": "stdout",
     "output_type": "stream",
     "text": [
      "Sorted in ascending order:\n",
      "Friday        56\n",
      "Monday       101\n",
      "Wednesday    120\n",
      "Tuesday      201\n",
      "Thursday     212\n",
      "dtype: int64\n",
      "Sorted in descending order:\n",
      "Thursday     212\n",
      "Tuesday      201\n",
      "Wednesday    120\n",
      "Monday       101\n",
      "Friday        56\n",
      "dtype: int64\n",
      "Indices of the sorted Series:\n",
      "Index(['Friday', 'Monday', 'Wednesday', 'Tuesday', 'Thursday'], dtype='object')\n",
      "Accessing data using sorted indices:\n",
      "Friday        56\n",
      "Monday       101\n",
      "Wednesday    120\n",
      "Tuesday      201\n",
      "Thursday     212\n",
      "dtype: int64\n",
      "Top 2 values:\n",
      "Friday     56\n",
      "Monday    101\n",
      "dtype: int64\n",
      "Bottom 2 values:\n",
      "Tuesday     201\n",
      "Thursday    212\n",
      "dtype: int64\n"
     ]
    }
   ],
   "source": [
    "\n",
    "# Create a sample Pandas Series\n",
    "data = {'Monday': 101, 'Tuesday': 201, 'Wednesday': 120, 'Thursday': 212, 'Friday': 56}\n",
    "my_series = pd.Series(data)\n",
    "\n",
    "\n",
    "# TODO Sort the Series using sort_values() method #since it is a method from a series object, it is series.sort_values()\n",
    "sorted_series_asc = my_series.sort_values()\n",
    "print(\"Sorted in ascending order:\")\n",
    "print(sorted_series_asc)\n",
    "\n",
    "# use ascending parameter to sort the values descending\n",
    "sorted_series_desc = my_series.sort_values(ascending=False)\n",
    "print(\"Sorted in descending order:\")\n",
    "print(sorted_series_desc)\n",
    "\n",
    "# print  indices of the sorted Series, use .index method #it is an attribute , returns an index object\n",
    "indices_sorted = sorted_series_asc.index\n",
    "print(\"Indices of the sorted Series:\")\n",
    "print(indices_sorted)\n",
    "\n",
    "# Use the sorted indices to access the sorted data #sorting data in the order of the indices \n",
    "# that were sorted based on the value in the prev step: asc\n",
    "sorted_data = my_series[indices_sorted]\n",
    "print(\"Accessing data using sorted indices:\")\n",
    "print(sorted_data)\n",
    "\n",
    "# # use head / tail method to access first 5 values of sorted series\n",
    "top_5 = sorted_series_asc.head(2) #TODO #it is 5 by default otherwise one can enter any number  \n",
    "bottom_5 = sorted_series_asc.tail(2) #TODO \n",
    "print(\"Top 2 values:\")\n",
    "print(top_5)\n",
    "print(\"Bottom 2 values:\")\n",
    "print(bottom_5)\n"
   ]
  },
  {
   "cell_type": "code",
   "execution_count": null,
   "metadata": {},
   "outputs": [
    {
     "name": "stdout",
     "output_type": "stream",
     "text": [
      "Friday\n",
      "Monday\n",
      "Wednesday\n",
      "Tuesday\n",
      "Thursday\n"
     ]
    }
   ],
   "source": [
    "# for index in sorted_data.index:\n",
    "#     print(index)"
   ]
  },
  {
   "cell_type": "code",
   "execution_count": null,
   "metadata": {},
   "outputs": [
    {
     "data": {
      "text/plain": [
       "0     True\n",
       "1    False\n",
       "2    False\n",
       "3    False\n",
       "4    False\n",
       "5    False\n",
       "dtype: bool"
      ]
     },
     "execution_count": 50,
     "metadata": {},
     "output_type": "execute_result"
    }
   ],
   "source": [
    "#Use .isin() to check if value is in the specified range of keywords\n",
    "keywords = [15, 20, 25, 30, 201, 101]\n",
    "\n",
    "dummy_series = pd.Series(keywords)\n",
    "\n",
    "bla = dummy_series.isin([15])\n"
   ]
  },
  {
   "cell_type": "code",
   "execution_count": 54,
   "metadata": {},
   "outputs": [
    {
     "data": {
      "text/plain": [
       "0    False\n",
       "1     True\n",
       "2     True\n",
       "3     True\n",
       "4     True\n",
       "5     True\n",
       "dtype: bool"
      ]
     },
     "execution_count": 54,
     "metadata": {},
     "output_type": "execute_result"
    }
   ],
   "source": [
    "#TODO whar if we need the opposite?\n",
    "\n",
    "~dummy_series.isin([15]) #inverts the result\n",
    "\n",
    "#alternative\n",
    "\n",
    "dummy_series.isin([20,25,30,201,101])"
   ]
  },
  {
   "cell_type": "code",
   "execution_count": null,
   "metadata": {},
   "outputs": [
    {
     "name": "stdout",
     "output_type": "stream",
     "text": [
      "0    10\n",
      "1    20\n",
      "2    30\n",
      "3    40\n",
      "4    50\n",
      "dtype: int64\n"
     ]
    },
    {
     "data": {
      "text/plain": [
       "50"
      ]
     },
     "execution_count": 55,
     "metadata": {},
     "output_type": "execute_result"
    }
   ],
   "source": [
    "#What is the difference between index and label?\n",
    "\n",
    "#label can be a string or an int; each label for a datapt is unique\n",
    "\n",
    "#Series with index\n",
    "data = [10, 20, 30, 40, 50]\n",
    "my_series = pd.Series(data)\n",
    "print(my_series)\n",
    "\n",
    "#access value by index\n",
    "value_by_index = my_series[2] \n",
    "\n",
    "#TODO reindex\n",
    "new_index = [2,4,6,8,10]\n",
    "my_series.index = new_index #new indices 0-4 indices dont exist anymore\n",
    "\n",
    "#we can also access data using .get methood\n",
    "my_series.get(10) #takes index as an argument"
   ]
  },
  {
   "cell_type": "code",
   "execution_count": null,
   "metadata": {},
   "outputs": [
    {
     "data": {
      "text/plain": [
       "50"
      ]
     },
     "execution_count": 56,
     "metadata": {},
     "output_type": "execute_result"
    }
   ],
   "source": [
    "#series with labels\n",
    "data = [10, 20, 30, 40, 50]\n",
    "labels = ['A', 'B', 'C', 'D', 'E']\n",
    "my_series = pd.Series(data, index=labels)\n",
    "\n",
    "#access value by label E\n",
    "my_series['E'] #will return KeyError is any label doesnt exist"
   ]
  },
  {
   "cell_type": "code",
   "execution_count": null,
   "metadata": {},
   "outputs": [
    {
     "data": {
      "text/plain": [
       "0"
      ]
     },
     "execution_count": 61,
     "metadata": {},
     "output_type": "execute_result"
    }
   ],
   "source": [
    "#TODO use get method too access value by label G, use default parameter to return 0 if nothing is found\n",
    "\n",
    "#print(my_series.get(\"G\")) #or \n",
    "my_series.get(\"G\", default =0) #if default is not specified it returns None"
   ]
  },
  {
   "cell_type": "code",
   "execution_count": 63,
   "metadata": {},
   "outputs": [
    {
     "name": "stdout",
     "output_type": "stream",
     "text": [
      "A    10\n",
      "B    25\n",
      "C    30\n",
      "D    35\n",
      "E    35\n",
      "dtype: int64\n",
      "A    10\n",
      "B    25\n",
      "C    30\n",
      "D    35\n",
      "E    35\n",
      "dtype: int64\n",
      "A    10\n",
      "B    25\n",
      "C    30\n",
      "D    35\n",
      "E    35\n",
      "dtype: int64\n",
      "A    10\n",
      "B    25\n",
      "C    30\n",
      "D    35\n",
      "E    35\n",
      "dtype: int64\n"
     ]
    },
    {
     "name": "stderr",
     "output_type": "stream",
     "text": [
      "C:\\Users\\rukhm\\AppData\\Local\\Temp\\ipykernel_44376\\1321383402.py:12: FutureWarning: Series.__setitem__ treating keys as positions is deprecated. In a future version, integer keys will always be treated as labels (consistent with DataFrame behavior). To set a value by position, use `ser.iloc[pos] = value`\n",
      "  my_series[1] = 25  #will give depracating warning since you cant use keys as positional arguments\n"
     ]
    }
   ],
   "source": [
    "#Replacing values using replace function\n",
    "new_series = my_series.replace(20, 25) \n",
    "\n",
    "print(my_series)\n",
    "print(new_series)\n",
    "\n",
    "#or with overwriting existing\n",
    "my_series.replace(20, 25, inplace=True) #replace 20 in the og series as 25\n",
    "\n",
    "print(my_series)\n",
    "#teplacing values using indexing\n",
    "my_series[1] = 25  #will give depracating warning since you cant use keys as positional arguments\n",
    "\n",
    "#replacing values using conditions\n",
    "my_series[my_series > 30] = 35\n",
    "print(my_series)"
   ]
  }
 ],
 "metadata": {
  "kernelspec": {
   "display_name": "dwwshop",
   "language": "python",
   "name": "python3"
  },
  "language_info": {
   "codemirror_mode": {
    "name": "ipython",
    "version": 3
   },
   "file_extension": ".py",
   "mimetype": "text/x-python",
   "name": "python",
   "nbconvert_exporter": "python",
   "pygments_lexer": "ipython3",
   "version": "3.11.7"
  },
  "orig_nbformat": 4
 },
 "nbformat": 4,
 "nbformat_minor": 2
}
