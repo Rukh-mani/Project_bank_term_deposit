{
 "cells": [
  {
   "cell_type": "code",
   "execution_count": 20,
   "metadata": {},
   "outputs": [
    {
     "name": "stdout",
     "output_type": "stream",
     "text": [
      "total 45211 positive 37931 good customers 37672\n"
     ]
    }
   ],
   "source": [
    "import sqlite3\n",
    "import pandas as pd\n",
    "import plotly.express as px\n",
    "import numpy as np\n",
    "import seaborn as sns\n",
    "from sklearn.preprocessing import OneHotEncoder, LabelEncoder, LabelBinarizer, MinMaxScaler,StandardScaler\n",
    "import matplotlib.pyplot as plt\n",
    "import math\n",
    "\n",
    "def load_data() -> tuple[pd.DataFrame, pd.DataFrame]:\n",
    "    #connect to the data.db database\n",
    "    conn = sqlite3.connect('data.db')\n",
    "    cursor = conn.cursor()\n",
    "\n",
    "    #joining the tables based on foreign keys\n",
    "    query = \"\"\"\n",
    "    SELECT\n",
    "    c.id AS client_id,\n",
    "    c.age,\n",
    "    c.job,\n",
    "    c.marital,\n",
    "    c.education,\n",
    "    a.balance,\n",
    "    a.in_default,\n",
    "    a.housing,\n",
    "    a.loan,\n",
    "    ca.duration,\n",
    "    ca.campaign,\n",
    "    ca.pdays,\n",
    "    ca.previous,\n",
    "    o.poutcome,\n",
    "    o.y\n",
    "    FROM Clients c\n",
    "    JOIN Accounts a ON c.id = a.client_id\n",
    "    JOIN Campaigns ca ON a.id = ca.account_id\n",
    "    JOIN Outcomes o ON ca.id = o.campaign_id;\n",
    "    \"\"\"\n",
    "\n",
    "    # Execute the query and fetch the result into a DataFrame\n",
    "    merged_df = pd.read_sql_query(query, conn)\n",
    "    total_customers = len(merged_df)\n",
    "    # Make basic filtering: \n",
    "    # 1. remove customers with negative balancce\n",
    "    merged_df = merged_df[ merged_df[\"balance\"] > 0 ]\n",
    "    positive_balance_customers = len(merged_df)\n",
    "    # 2 remove customers who are in default\n",
    "    merged_df = merged_df[ merged_df[\"in_default\"]  == \"no\" ]\n",
    "    good_customers = len(merged_df)\n",
    "    print(\"total\", total_customers, \n",
    "          \"positive\", positive_balance_customers,\n",
    "          \"good customers\", good_customers)\n",
    "\n",
    "    train_and_test_df = merged_df[(merged_df.y == 'yes') | (merged_df.y =='no')]\n",
    "    prediction_df = merged_df[merged_df.y=='unknown']\n",
    "    prediction_df = prediction_df.drop(\"y\", axis=1)\n",
    "\n",
    "    return train_and_test_df, prediction_df\n",
    "\n",
    "\n",
    "train_and_test_df, prediction_df = load_data()"
   ]
  },
  {
   "cell_type": "code",
   "execution_count": null,
   "metadata": {},
   "outputs": [],
   "source": [
    "def total_return(num_reached, balances, alpha=0.1): \n",
    "    return -2 * num_reached + alpha * sum(balances)\n",
    "# -2 * num_reached: This represents the cost of reaching out to num_reached individuals.\n",
    "# calculates the total balance (or value) associated with the individuals reached.\n",
    "# \n",
    "def avg_return(num_reached, balances, alpha=0.1):\n",
    "    return total_return(num_reached, balances, alpha) / num_reached\n",
    "\n"
   ]
  },
  {
   "cell_type": "code",
   "execution_count": 47,
   "metadata": {},
   "outputs": [
    {
     "name": "stdout",
     "output_type": "stream",
     "text": [
      "Fitting 3 folds for each of 32 candidates, totalling 96 fits\n",
      "Best parameters found:  {'classifier__colsample_bytree': 0.8, 'classifier__learning_rate': 0.1, 'classifier__max_depth': 3, 'classifier__n_estimators': 100, 'classifier__subsample': 0.8}\n"
     ]
    },
    {
     "name": "stderr",
     "output_type": "stream",
     "text": [
      "c:\\anaconda\\envs\\dwwshop\\Lib\\site-packages\\xgboost\\core.py:158: UserWarning: [23:13:03] WARNING: C:\\buildkite-agent\\builds\\buildkite-windows-cpu-autoscaling-group-i-0c55ff5f71b100e98-1\\xgboost\\xgboost-ci-windows\\src\\learner.cc:740: \n",
      "Parameters: { \"use_label_encoder\" } are not used.\n",
      "\n",
      "  warnings.warn(smsg, UserWarning)\n"
     ]
    }
   ],
   "source": [
    "import pandas as pd\n",
    "import numpy as np\n",
    "from xgboost import XGBClassifier\n",
    "from sklearn.model_selection import train_test_split, GridSearchCV\n",
    "from sklearn.preprocessing import OrdinalEncoder\n",
    "from sklearn.metrics import accuracy_score, roc_auc_score\n",
    "from sklearn.compose import ColumnTransformer\n",
    "from sklearn.pipeline import Pipeline\n",
    "\n",
    "# Sample data creation (replace this with your actual DataFrame)\n",
    "np.random.seed(42)\n",
    "\n",
    "# Separate features and target variable\n",
    "X = train_and_test_df[prediction_df.columns.drop(\"client_id\")]\n",
    "y = train_and_test_df[\"y\"] == \"yes\"\n",
    "\n",
    "# Identify categorical and numerical columns\n",
    "categorical_cols = X.select_dtypes(include=['object']).columns.tolist()\n",
    "numerical_cols = X.select_dtypes(exclude=['object']).columns.tolist()\n",
    "\n",
    "# Preprocessing: Encode categorical variables\n",
    "preprocessor = ColumnTransformer(\n",
    "    transformers=[\n",
    "        ('cat', OrdinalEncoder(handle_unknown='use_encoded_value', unknown_value=-1), categorical_cols),\n",
    "        ('num', 'passthrough', numerical_cols)\n",
    "    ]\n",
    ")\n",
    "\n",
    "# Create a pipeline that includes preprocessing and the classifier\n",
    "pipeline = Pipeline(steps=[\n",
    "    ('preprocessor', preprocessor),\n",
    "    ('classifier', XGBClassifier(use_label_encoder=False, eval_metric='logloss'))\n",
    "])\n",
    "\n",
    "# Split data into training and validation sets\n",
    "X_train, X_val, y_train, y_val = train_test_split(X, y, test_size=0.2, random_state=42)\n",
    "\n",
    "# Define hyperparameter grid for tuning\n",
    "param_grid = {\n",
    "    'classifier__n_estimators': [100, 200],\n",
    "    'classifier__max_depth': [3, 5],\n",
    "    'classifier__learning_rate': [0.01, 0.1],\n",
    "    'classifier__subsample': [0.8, 1],\n",
    "    'classifier__colsample_bytree': [0.8, 1],\n",
    "}\n",
    "\n",
    "# Set up GridSearchCV for hyperparameter tuning\n",
    "grid_search = GridSearchCV(\n",
    "    pipeline, param_grid, cv=3, scoring='roc_auc', n_jobs=-1, verbose=2\n",
    ")\n",
    "\n",
    "# Fit the model using grid search\n",
    "grid_search.fit(X_train, y_train)\n",
    "\n",
    "# Output the best parameters\n",
    "print(\"Best parameters found: \", grid_search.best_params_)\n",
    "\n",
    "# Evaluate the best model on the validation set\n",
    "best_model = grid_search.best_estimator_\n",
    "y_pred = best_model.predict(X_val)\n",
    "y_pred_proba = best_model.predict_proba(X_val)[:, 1]\n"
   ]
  },
  {
   "cell_type": "code",
   "execution_count": null,
   "metadata": {},
   "outputs": [
    {
     "name": "stdout",
     "output_type": "stream",
     "text": [
      "Validation Accuracy: 0.8874\n",
      "Validation ROC AUC: 0.8502\n",
      "Number of reached customers 42\n",
      "Number of converted customers 24\n",
      "Expected avg return 179.65952380952382\n",
      "Actual avg return 69.63095238095238\n",
      "Conversion ratio 0.5714285714285714\n",
      "Avg return ratio 0.38757172959433844\n"
     ]
    }
   ],
   "source": [
    "# Calculate evaluation metrics\n",
    "accuracy = accuracy_score(y_val, y_pred)\n",
    "roc_auc = roc_auc_score(y_val, y_pred_proba)\n",
    "reached_customers = X_val.loc[y_pred == 1] \n",
    "converted_customers = X_val.loc[(y_pred == 1) & (y_val == 1)]\n",
    "num_reached = len(reached_customers)\n",
    "num_converted = len(converted_customers)\n",
    "conversion_ratio = num_converted / num_reached\n",
    "expected_avg_return = avg_return(num_reached, reached_customers[\"balance\"])\n",
    "actual_avg_return = avg_return(num_reached, converted_customers[\"balance\"])\n",
    "return_ratio = actual_avg_return / expected_avg_return\n",
    "print(f'Validation Accuracy: {accuracy:.4f}')\n",
    "print(f'Validation ROC AUC: {roc_auc:.4f}')\n",
    "print(f\"Number of reached customers\", num_reached)\n",
    "print(f\"Number of converted customers\", num_converted)\n",
    "print(f\"Expected avg return\", expected_avg_return)\n",
    "print(f\"Actual avg return\", actual_avg_return)\n",
    "print(\"Conversion ratio\", conversion_ratio)\n",
    "print(\"Avg return ratio\", return_ratio)\n"
   ]
  },
  {
   "cell_type": "code",
   "execution_count": 96,
   "metadata": {},
   "outputs": [],
   "source": [
    "# Make predictions\n",
    "X_future = prediction_df.drop(\"client_id\", axis=1)\n",
    "y_future = best_model.predict(X_future)"
   ]
  },
  {
   "cell_type": "code",
   "execution_count": null,
   "metadata": {},
   "outputs": [
    {
     "name": "stdout",
     "output_type": "stream",
     "text": [
      "0.0\t-2.0\n",
      "0.0010204081632653062\t1.6339337984826916\n",
      "0.0020408163265306124\t0.7491563404581935\n",
      "0.0030612244897959186\t0.2471492436887681\n",
      "0.004081632653061225\t1.152126775176048\n",
      "0.005102040816326531\t2.0356513038969384\n",
      "0.006122448979591837\t2.910801115420157\n",
      "0.0071428571428571435\t3.7818193955905737\n",
      "0.00816326530612245\t4.6504969967853516\n",
      "0.009183673469387756\t5.517720421348997\n",
      "0.010204081632653062\t6.383978684110395\n",
      "0.011224489795918368\t7.249563637537517\n",
      "0.012244897959183675\t8.114660238793975\n",
      "0.01326530612244898\t8.97939138439207\n",
      "0.014285714285714287\t9.843841925505213\n",
      "0.015306122448979593\t10.70807233263967\n",
      "0.0163265306122449\t11.572126865519792\n",
      "0.017346938775510204\t12.436038664075504\n",
      "0.018367346938775512\t13.299833034228044\n",
      "0.01938775510204082\t14.16352963358912\n",
      "0.020408163265306124\t15.027143964059668\n",
      "0.02142857142857143\t15.89068841487451\n",
      "0.022448979591836737\t16.754173006509774\n",
      "0.023469387755102045\t17.617605930975838\n",
      "0.02448979591836735\t18.480993950678872\n",
      "0.025510204081632654\t19.34434269723796\n",
      "0.02653061224489796\t20.207656898358845\n",
      "0.02755102040816327\t21.070940552192873\n",
      "0.028571428571428574\t21.934197062835775\n",
      "0.02959183673469388\t22.797429346709\n",
      "0.030612244897959186\t23.66063991687093\n",
      "0.031632653061224494\t24.523830950421495\n",
      "0.0326530612244898\t25.3870043428273\n",
      "0.0336734693877551\t26.2501617520357\n",
      "0.03469387755102041\t27.113304634548815\n",
      "0.03571428571428572\t27.97643427511686\n",
      "0.036734693877551024\t28.83955181132947\n",
      "0.03775510204081633\t29.702658254099685\n",
      "0.03877551020408164\t30.565754504818994\n",
      "0.039795918367346944\t31.428841369798\n",
      "0.04081632653061225\t32.291919572481106\n",
      "0.04183673469387755\t33.15498976382518\n",
      "0.04285714285714286\t34.0180525311566\n",
      "0.04387755102040817\t34.88110840576057\n",
      "0.04489795918367347\t35.744157869409506\n",
      "0.04591836734693878\t36.607201359999635\n",
      "0.04693877551020409\t37.470239276434654\n",
      "0.047959183673469394\t38.33327198287133\n",
      "0.0489795918367347\t39.19629981242227\n",
      "0.05\t40.05932307039494\n"
     ]
    },
    {
     "data": {
      "text/plain": [
       "Text(0, 0.5, '$ earnings per contacted customer')"
      ]
     },
     "execution_count": 115,
     "metadata": {},
     "output_type": "execute_result"
    },
    {
     "data": {
      "image/png": "[encoded data removed]",
      "text/plain": [
       "<Figure size 640x480 with 1 Axes>"
      ]
     },
     "metadata": {},
     "output_type": "display_data"
    }
   ],
   "source": [
    "# alphas = np.linspace(0, .05, 50)\n",
    "# results = []\n",
    "# for alpha in alphas:\n",
    "#     expected_avg_return = avg_return(num_reached, reached_customers[\"balance\"], alpha=alpha)\n",
    "#     actual_avg_return = avg_return(num_reached, converted_customers[\"balance\"], alpha=alpha)\n",
    "#     return_ratio = abs(actual_avg_return / expected_avg_return)\n",
    "#     #if actual_avg_return < 0 or expected_avg_return < 0:\n",
    "#     #  return_ratio = 1\n",
    "\n",
    "#     future_reached_customers = X_future.loc[y_future == 1]\n",
    "#     future_num_reached = len(future_reached_customers)\n",
    "#     future_expected_avg_return = avg_return(future_num_reached, future_reached_customers[\"balance\"], alpha=alpha)\n",
    "#     print(alpha, \n",
    "#           future_expected_avg_return * return_ratio,\n",
    "#           sep=\"\\t\")\n",
    "#     results.append(future_expected_avg_return * return_ratio)\n",
    "\n",
    "# plt.plot(alphas * 100, results)\n",
    "# plt.xlabel(\"Bank's interest rate %\")\n",
    "# plt.ylabel(\"$ earnings per contacted customer\")"
   ]
  },
  {
   "cell_type": "code",
   "execution_count": 117,
   "metadata": {},
   "outputs": [
    {
     "name": "stdout",
     "output_type": "stream",
     "text": [
      "0.05\t40.05932307039494\n"
     ]
    }
   ],
   "source": [
    "alpha = 0.05\n",
    "expected_avg_return = avg_return(num_reached, reached_customers[\"balance\"], alpha=alpha)\n",
    "actual_avg_return = avg_return(num_reached, converted_customers[\"balance\"], alpha=alpha)\n",
    "return_ratio = abs(actual_avg_return / expected_avg_return)\n",
    "    #if actual_avg_return < 0 or expected_avg_return < 0:\n",
    "    #  return_ratio = 1\n",
    "\n",
    "future_reached_customers = X_future.loc[y_future == 1]\n",
    "future_num_reached = len(future_reached_customers)\n",
    "future_expected_avg_return = avg_return(future_num_reached, future_reached_customers[\"balance\"], alpha=alpha)\n",
    "print(alpha, \n",
    "    future_expected_avg_return * return_ratio,\n",
    "    sep=\"\\t\")"
   ]
  },
  {
   "cell_type": "code",
   "execution_count": null,
   "metadata": {},
   "outputs": [],
   "source": [
    "client_ids_to_reach = prediction_df.loc[y_future == 1, \"client_id\"].copy()\n",
    "client_ids_to_reach.name = \"target\"\n",
    "client_ids_to_reach.to_csv(\"second_phase_target.csv\", index=False)"
   ]
  }
 ],
 "metadata": {
  "kernelspec": {
   "display_name": "dwwshop",
   "language": "python",
   "name": "python3"
  },
  "language_info": {
   "codemirror_mode": {
    "name": "ipython",
    "version": 3
   },
   "file_extension": ".py",
   "mimetype": "text/x-python",
   "name": "python",
   "nbconvert_exporter": "python",
   "pygments_lexer": "ipython3",
   "version": "3.11.7"
  }
 },
 "nbformat": 4,
 "nbformat_minor": 2
}
