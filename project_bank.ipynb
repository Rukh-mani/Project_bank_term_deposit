{
 "cells": [
  {
   "cell_type": "code",
   "execution_count": 19,
   "metadata": {},
   "outputs": [
    {
     "name": "stdout",
     "output_type": "stream",
     "text": [
      "total 45211 positive 37931 good customers 37672\n"
     ]
    }
   ],
   "source": [
    "import sqlite3\n",
    "import pandas as pd\n",
    "import plotly.express as px\n",
    "import numpy as np\n",
    "import seaborn as sns\n",
    "from sklearn.preprocessing import OneHotEncoder, LabelEncoder, LabelBinarizer, MinMaxScaler,StandardScaler\n",
    "import matplotlib.pyplot as plt\n",
    "import math\n",
    "\n",
    "def load_data() -> tuple[pd.DataFrame, pd.DataFrame]:\n",
    "    #connect to the data.db database\n",
    "    conn = sqlite3.connect('data.db')\n",
    "    cursor = conn.cursor()\n",
    "\n",
    "    #joining the tables based on foreign keys\n",
    "    query = \"\"\"\n",
    "    SELECT\n",
    "    c.id AS client_id,\n",
    "    c.age,\n",
    "    c.job,\n",
    "    c.marital,\n",
    "    c.education,\n",
    "    a.balance,\n",
    "    a.in_default,\n",
    "    a.housing,\n",
    "    a.loan,\n",
    "    ca.duration,\n",
    "    ca.campaign,\n",
    "    ca.pdays,\n",
    "    ca.previous,\n",
    "    o.poutcome,\n",
    "    o.y\n",
    "    FROM Clients c\n",
    "    JOIN Accounts a ON c.id = a.client_id\n",
    "    JOIN Campaigns ca ON a.id = ca.account_id\n",
    "    JOIN Outcomes o ON ca.id = o.campaign_id;\n",
    "    \"\"\"\n",
    "\n",
    "    # Execute the query and fetch the result into a DataFrame\n",
    "    merged_df = pd.read_sql_query(query, conn)\n",
    "    total_customers = len(merged_df)\n",
    "    # Make basic filtering: \n",
    "    # 1. remove customers with negative balancce\n",
    "    merged_df = merged_df[ merged_df[\"balance\"] > 0 ]\n",
    "    positive_balance_customers = len(merged_df)\n",
    "    # 2 remove customers who are in default\n",
    "    merged_df = merged_df[ merged_df[\"in_default\"]  == \"no\" ]\n",
    "    good_customers = len(merged_df)\n",
    "    print(\"total\", total_customers, \n",
    "          \"positive\", positive_balance_customers,\n",
    "          \"good customers\", good_customers)\n",
    "\n",
    "    train_and_test_df = merged_df[(merged_df.y == 'yes') | (merged_df.y =='no')]\n",
    "    prediction_df = merged_df[merged_df.y=='unknown']\n",
    "    prediction_df = prediction_df.drop(\"y\", axis=1)\n",
    "\n",
    "    return train_and_test_df, prediction_df\n",
    "\n",
    "\n",
    "train_and_test_df, prediction_df = load_data()"
   ]
  },
  {
   "cell_type": "code",
   "execution_count": 20,
   "metadata": {},
   "outputs": [],
   "source": [
    "def total_return(num_reached, balances, alpha=0.1): \n",
    "    return -2 * num_reached + alpha * sum(balances)\n",
    "# -2 * num_reached: This represents the cost of reaching out to num_reached individuals.\n",
    "# calculates the total balance (or value) associated with the individuals reached.\n",
    "# \n",
    "def avg_return(num_reached, balances, alpha=0.1):\n",
    "    return total_return(num_reached, balances, alpha) / num_reached\n",
    "\n"
   ]
  },
  {
   "cell_type": "code",
   "execution_count": 21,
   "metadata": {},
   "outputs": [
    {
     "name": "stdout",
     "output_type": "stream",
     "text": [
      "Fitting 3 folds for each of 32 candidates, totalling 96 fits\n",
      "Best parameters found:  {'classifier__colsample_bytree': 0.8, 'classifier__learning_rate': 0.1, 'classifier__max_depth': 3, 'classifier__n_estimators': 100, 'classifier__subsample': 0.8}\n"
     ]
    },
    {
     "name": "stderr",
     "output_type": "stream",
     "text": [
      "c:\\anaconda\\envs\\dwwshop\\Lib\\site-packages\\xgboost\\core.py:158: UserWarning: [23:32:25] WARNING: C:\\buildkite-agent\\builds\\buildkite-windows-cpu-autoscaling-group-i-0c55ff5f71b100e98-1\\xgboost\\xgboost-ci-windows\\src\\learner.cc:740: \n",
      "Parameters: { \"use_label_encoder\" } are not used.\n",
      "\n",
      "  warnings.warn(smsg, UserWarning)\n"
     ]
    }
   ],
   "source": [
    "import pandas as pd\n",
    "import numpy as np\n",
    "from xgboost import XGBClassifier\n",
    "from sklearn.model_selection import train_test_split, GridSearchCV\n",
    "from sklearn.preprocessing import OrdinalEncoder\n",
    "from sklearn.metrics import accuracy_score, roc_auc_score\n",
    "from sklearn.compose import ColumnTransformer\n",
    "from sklearn.pipeline import Pipeline\n",
    "\n",
    "# Sample data creation (replace this with your actual DataFrame)\n",
    "np.random.seed(42)\n",
    "\n",
    "# Separate features and target variable\n",
    "X = train_and_test_df[prediction_df.columns.drop(\"client_id\")]\n",
    "y = train_and_test_df[\"y\"] == \"yes\"\n",
    "\n",
    "# Identify categorical and numerical columns\n",
    "categorical_cols = X.select_dtypes(include=['object']).columns.tolist()\n",
    "numerical_cols = X.select_dtypes(exclude=['object']).columns.tolist()\n",
    "\n",
    "# Preprocessing: Encode categorical variables\n",
    "preprocessor = ColumnTransformer(\n",
    "    transformers=[\n",
    "        ('cat', OrdinalEncoder(handle_unknown='use_encoded_value', unknown_value=-1), categorical_cols),\n",
    "        ('num', 'passthrough', numerical_cols)\n",
    "    ]\n",
    ")\n",
    "\n",
    "# Create a pipeline that includes preprocessing and the classifier\n",
    "pipeline = Pipeline(steps=[\n",
    "    ('preprocessor', preprocessor),\n",
    "    ('classifier', XGBClassifier(use_label_encoder=False, eval_metric='logloss'))\n",
    "])\n",
    "\n",
    "# Split data into training and validation sets\n",
    "X_train, X_val, y_train, y_val = train_test_split(X, y, test_size=0.2, random_state=42)\n",
    "\n",
    "# Define hyperparameter grid for tuning\n",
    "param_grid = {\n",
    "    'classifier__n_estimators': [100, 200],\n",
    "    'classifier__max_depth': [3, 5],\n",
    "    'classifier__learning_rate': [0.01, 0.1],\n",
    "    'classifier__subsample': [0.8, 1],\n",
    "    'classifier__colsample_bytree': [0.8, 1],\n",
    "}\n",
    "\n",
    "# Set up GridSearchCV for hyperparameter tuning\n",
    "grid_search = GridSearchCV(\n",
    "    pipeline, param_grid, cv=3, scoring='roc_auc', n_jobs=-1, verbose=2\n",
    ")\n",
    "\n",
    "# Fit the model using grid search\n",
    "grid_search.fit(X_train, y_train)\n",
    "\n",
    "# Output the best parameters\n",
    "print(\"Best parameters found: \", grid_search.best_params_)\n",
    "\n",
    "# Evaluate the best model on the validation set\n",
    "best_model = grid_search.best_estimator_\n",
    "y_pred = best_model.predict(X_val)\n",
    "y_pred_proba = best_model.predict_proba(X_val)[:, 1]\n"
   ]
  },
  {
   "cell_type": "code",
   "execution_count": 22,
   "metadata": {},
   "outputs": [
    {
     "name": "stdout",
     "output_type": "stream",
     "text": [
      "Validation Accuracy: 0.8874\n",
      "Validation ROC AUC: 0.8502\n",
      "Number of reached customers 42\n",
      "Number of converted customers 24\n",
      "Expected avg return 179.65952380952382\n",
      "Actual avg return 69.63095238095238\n",
      "Conversion ratio 0.5714285714285714\n",
      "Avg return ratio 0.38757172959433844\n"
     ]
    }
   ],
   "source": [
    "# Calculate evaluation metrics\n",
    "accuracy = accuracy_score(y_val, y_pred)\n",
    "roc_auc = roc_auc_score(y_val, y_pred_proba)\n",
    "reached_customers = X_val.loc[y_pred == 1] \n",
    "converted_customers = X_val.loc[(y_pred == 1) & (y_val == 1)]\n",
    "num_reached = len(reached_customers)\n",
    "num_converted = len(converted_customers)\n",
    "conversion_ratio = num_converted / num_reached\n",
    "expected_avg_return = avg_return(num_reached, reached_customers[\"balance\"])\n",
    "actual_avg_return = avg_return(num_reached, converted_customers[\"balance\"])\n",
    "return_ratio = actual_avg_return / expected_avg_return\n",
    "print(f'Validation Accuracy: {accuracy:.4f}')\n",
    "print(f'Validation ROC AUC: {roc_auc:.4f}')\n",
    "print(f\"Number of reached customers\", num_reached)\n",
    "print(f\"Number of converted customers\", num_converted)\n",
    "print(f\"Expected avg return\", expected_avg_return)\n",
    "print(f\"Actual avg return\", actual_avg_return)\n",
    "print(\"Conversion ratio\", conversion_ratio)\n",
    "print(\"Avg return ratio\", return_ratio)\n"
   ]
  },
  {
   "cell_type": "code",
   "execution_count": 23,
   "metadata": {},
   "outputs": [],
   "source": [
    "# Make predictions\n",
    "X_future = prediction_df.drop(\"client_id\", axis=1)\n",
    "y_future = best_model.predict(X_future)"
   ]
  },
  {
   "cell_type": "code",
   "execution_count": 24,
   "metadata": {},
   "outputs": [],
   "source": [
    "# alphas = np.linspace(0, .05, 50)\n",
    "# results = []\n",
    "# for alpha in alphas:\n",
    "#     expected_avg_return = avg_return(num_reached, reached_customers[\"balance\"], alpha=alpha)\n",
    "#     actual_avg_return = avg_return(num_reached, converted_customers[\"balance\"], alpha=alpha)\n",
    "#     return_ratio = abs(actual_avg_return / expected_avg_return)\n",
    "#     #if actual_avg_return < 0 or expected_avg_return < 0:\n",
    "#     #  return_ratio = 1\n",
    "\n",
    "#     future_reached_customers = X_future.loc[y_future == 1]\n",
    "#     future_num_reached = len(future_reached_customers)\n",
    "#     future_expected_avg_return = avg_return(future_num_reached, future_reached_customers[\"balance\"], alpha=alpha)\n",
    "#     print(alpha, \n",
    "#           future_expected_avg_return * return_ratio,\n",
    "#           sep=\"\\t\")\n",
    "#     results.append(future_expected_avg_return * return_ratio)\n",
    "\n",
    "# plt.plot(alphas * 100, results)\n",
    "# plt.xlabel(\"Bank's interest rate %\")\n",
    "# plt.ylabel(\"$ earnings per contacted customer\")"
   ]
  },
  {
   "cell_type": "code",
   "execution_count": 25,
   "metadata": {},
   "outputs": [
    {
     "name": "stdout",
     "output_type": "stream",
     "text": [
      "0.05\t40.05932307039494\n"
     ]
    }
   ],
   "source": [
    "alpha = 0.05\n",
    "expected_avg_return = avg_return(num_reached, reached_customers[\"balance\"], alpha=alpha)\n",
    "actual_avg_return = avg_return(num_reached, converted_customers[\"balance\"], alpha=alpha)\n",
    "return_ratio = abs(actual_avg_return / expected_avg_return)\n",
    "    #if actual_avg_return < 0 or expected_avg_return < 0:\n",
    "    #  return_ratio = 1\n",
    "\n",
    "future_reached_customers = X_future.loc[y_future == 1]\n",
    "future_num_reached = len(future_reached_customers)\n",
    "future_expected_avg_return = avg_return(future_num_reached, future_reached_customers[\"balance\"], alpha=alpha)\n",
    "print(alpha, \n",
    "    future_expected_avg_return * return_ratio,\n",
    "    sep=\"\\t\")"
   ]
  },
  {
   "cell_type": "code",
   "execution_count": 26,
   "metadata": {},
   "outputs": [],
   "source": [
    "conversion_ratio_future = num_converted / num_reached"
   ]
  },
  {
   "cell_type": "code",
   "execution_count": 27,
   "metadata": {},
   "outputs": [
    {
     "data": {
      "text/plain": [
       "0.38067732554243666"
      ]
     },
     "execution_count": 27,
     "metadata": {},
     "output_type": "execute_result"
    }
   ],
   "source": [
    "return_ratio"
   ]
  },
  {
   "cell_type": "code",
   "execution_count": 28,
   "metadata": {},
   "outputs": [
    {
     "data": {
      "text/plain": [
       "2279"
      ]
     },
     "execution_count": 28,
     "metadata": {},
     "output_type": "execute_result"
    }
   ],
   "source": [
    "future_num_reached"
   ]
  },
  {
   "cell_type": "code",
   "execution_count": 29,
   "metadata": {},
   "outputs": [
    {
     "data": {
      "text/plain": [
       "239823.05000000002"
      ]
     },
     "execution_count": 29,
     "metadata": {},
     "output_type": "execute_result"
    }
   ],
   "source": [
    "future_expected_total_return = total_return(future_num_reached, future_reached_customers[\"balance\"], alpha=alpha)\n",
    "future_expected_total_return"
   ]
  },
  {
   "cell_type": "code",
   "execution_count": 30,
   "metadata": {},
   "outputs": [],
   "source": [
    "client_ids_to_reach = prediction_df.loc[y_future == 1, \"client_id\"].copy()\n",
    "# client_ids_to_reach.name = \"target\"\n",
    "# client_ids_to_reach.to_csv(\"second_phase_target.csv\", index=False)"
   ]
  },
  {
   "cell_type": "code",
   "execution_count": 31,
   "metadata": {},
   "outputs": [
    {
     "data": {
      "text/plain": [
       "81204.0"
      ]
     },
     "execution_count": 31,
     "metadata": {},
     "output_type": "execute_result"
    }
   ],
   "source": [
    "# Filter using .isin()\n",
    "og_table = pd.read_csv(\"merged_table.csv\")\n",
    "filtered_table = og_table[og_table['client_id'].isin(list(client_ids_to_reach))]\n",
    "filtered_table.balance.max()"
   ]
  },
  {
   "cell_type": "code",
   "execution_count": 36,
   "metadata": {},
   "outputs": [
    {
     "data": {
      "text/plain": [
       "{'False': {'precision': 0.906030855539972,\n",
       "  'recall': 0.9728915662650602,\n",
       "  'f1-score': 0.9382716049382716,\n",
       "  'support': 664.0},\n",
       " 'True': {'precision': 0.5714285714285714,\n",
       "  'recall': 0.26373626373626374,\n",
       "  'f1-score': 0.3609022556390977,\n",
       "  'support': 91.0},\n",
       " 'accuracy': 0.8874172185430463,\n",
       " 'macro avg': {'precision': 0.7387297134842716,\n",
       "  'recall': 0.618313915000662,\n",
       "  'f1-score': 0.6495869302886846,\n",
       "  'support': 755.0},\n",
       " 'weighted avg': {'precision': 0.8657013087132999,\n",
       "  'recall': 0.8874172185430463,\n",
       "  'f1-score': 0.8686813919763845,\n",
       "  'support': 755.0}}"
      ]
     },
     "execution_count": 36,
     "metadata": {},
     "output_type": "execute_result"
    }
   ],
   "source": [
    "from sklearn.metrics import classification_report, roc_auc_score\n",
    "classification_report_test_group = classification_report(y_val, y_pred, output_dict=True)\n",
    "classification_report_test_group"
   ]
  },
  {
   "cell_type": "code",
   "execution_count": null,
   "metadata": {},
   "outputs": [
    {
     "data": {
      "image/png": "[encoded data removed]",
      "text/plain": [
       "<Figure size 720x480 with 2 Axes>"
      ]
     },
     "metadata": {},
     "output_type": "display_data"
    }
   ],
   "source": [
    "import seaborn as sns\n",
    "from sklearn.metrics import confusion_matrix\n",
    "import matplotlib.pyplot as plt\n",
    "\n",
    "# Generate the confusion matrix for XGBoost\n",
    "xgb_conf_matrix = confusion_matrix(y_val, best_model.predict(X_val))\n",
    "\n",
    "# Plot the confusion matrix heatmap\n",
    "fig, ax = plt.subplots(figsize=(6, 4), dpi=300)\n",
    "sns.heatmap(xgb_conf_matrix, annot=True, fmt=\"d\", cmap=\"coolwarm\", xticklabels=['no', 'yes'], yticklabels=['no', 'yes'], ax=ax)\n",
    "ax.set_title(\"Confusion Matrix - XGBoost\")\n",
    "ax.set_xlabel(\"Predicted Labels\")\n",
    "ax.set_ylabel(\"True Labels\")\n",
    "\n",
    "plt.tight_layout()\n",
    "plt.show()\n"
   ]
  },
  {
   "cell_type": "code",
   "execution_count": null,
   "metadata": {},
   "outputs": [],
   "source": [
    "# import dash\n",
    "# from dash import dcc, html\n",
    "# from dash.dependencies import Input, Output\n",
    "# import pandas as pd\n",
    "# import plotly.express as px\n",
    "\n",
    "# # Load the dataset\n",
    "# data = pd.read_csv(\"merged_table.csv\")\n",
    "\n",
    "# # Start the Dash app\n",
    "# app = dash.Dash(__name__)\n",
    "\n",
    "# # Extract column names for the dropdown\n",
    "# columns = data.columns\n",
    "\n",
    "# # Layout of the Dash app\n",
    "# app.layout = html.Div([\n",
    "#     html.H1(\"EDA Dashboard\", style={'textAlign': 'center'}),\n",
    "    \n",
    "#     # Dropdown for column selection\n",
    "#     html.Div([\n",
    "#         html.Label(\"Select Column for Visualization:\"),\n",
    "#         dcc.Dropdown(\n",
    "#             id=\"column-dropdown\",\n",
    "#             options=[{\"label\": col, \"value\": col} for col in columns],\n",
    "#             value=columns[0]\n",
    "#         )\n",
    "#     ], style={'width': '50%', 'margin': '0 auto'}),\n",
    "    \n",
    "#     # Graph for EDA\n",
    "#     dcc.Graph(id=\"eda-graph\")\n",
    "# ])\n",
    "\n",
    "# # Callback to update the graph based on selected column\n",
    "# @app.callback(\n",
    "#     Output(\"eda-graph\", \"figure\"),\n",
    "#     [Input(\"column-dropdown\", \"value\")]\n",
    "# )\n",
    "# def update_graph(selected_column):\n",
    "#     \"\"\"\n",
    "#     Update graph based on the selected column from the dropdown menu.\n",
    "#     \"\"\"\n",
    "#     if data[selected_column].dtype in ['int64', 'float64']:\n",
    "#         # Numerical column: use histogram\n",
    "#         fig = px.histogram(data, x=selected_column, title=f\"Distribution of {selected_column}\")\n",
    "#     else:\n",
    "#         # Categorical column: use bar chart\n",
    "#         category_counts = data[selected_column].value_counts().reset_index()\n",
    "#         category_counts.columns = [selected_column, 'count']  # Rename columns\n",
    "#         fig = px.bar(category_counts, x=selected_column, y='count', title=f\"Frequency of {selected_column}\")\n",
    "#         fig.update_layout(xaxis_title=selected_column, yaxis_title=\"Count\")\n",
    "    \n",
    "#     return fig\n",
    "\n",
    "# # Run the app\n",
    "# if __name__ == \"__main__\":\n",
    "#     app.run_server(debug=True)\n"
   ]
  }
 ],
 "metadata": {
  "kernelspec": {
   "display_name": "dwwshop",
   "language": "python",
   "name": "python3"
  },
  "language_info": {
   "codemirror_mode": {
    "name": "ipython",
    "version": 3
   },
   "file_extension": ".py",
   "mimetype": "text/x-python",
   "name": "python",
   "nbconvert_exporter": "python",
   "pygments_lexer": "ipython3",
   "version": "3.11.7"
  }
 },
 "nbformat": 4,
 "nbformat_minor": 2
}
